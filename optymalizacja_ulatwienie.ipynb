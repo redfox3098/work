{
  "cells": [
    {
      "cell_type": "markdown",
      "metadata": {
        "id": "ZGiztlwQM826"
      },
      "source": [
        "##Checking if a SMILES code is available for a given CAS number\n",
        "we must have a matrix with CAS number"
      ]
    },
    {
      "cell_type": "code",
      "execution_count": null,
      "metadata": {
        "id": "yRA4030YMoxT"
      },
      "outputs": [],
      "source": [
        "import pandas as pd\n",
        "from pubchempy import get_compounds\n",
        "data = pd.read_excel('CAS.xlsx')\n",
        "cas_numbers = data['CAS'].tolist()"
      ]
    },
    {
      "cell_type": "code",
      "execution_count": null,
      "metadata": {
        "id": "G8SN76zENbEG"
      },
      "outputs": [],
      "source": [
        "def cas_to_smiles(cas_number):\n",
        "    try:\n",
        "        compound = get_compounds(cas_number, 'name')[0]\n",
        "        smiles = compound.canonical_smiles\n",
        "        return smiles\n",
        "    except:\n",
        "        return None"
      ]
    },
    {
      "cell_type": "code",
      "execution_count": null,
      "metadata": {
        "id": "52G3MKbwNyQ4"
      },
      "outputs": [],
      "source": [
        "data['SMILES'] = [cas_to_smiles(cas) for cas in cas_numbers]"
      ]
    },
    {
      "cell_type": "code",
      "execution_count": null,
      "metadata": {
        "id": "r3qC4kQYN0wN"
      },
      "outputs": [],
      "source": [
        "data.to_excel('wyniki_NAME.xlsx', index=False)"
      ]
    },
    {
      "cell_type": "code",
      "execution_count": null,
      "metadata": {
        "id": "FxMbTo83N3rg"
      },
      "outputs": [],
      "source": [
        "data3 = pd.read_excel('PFAS_12_k.xlsx')\n",
        "data3.merge(data, how='left', on='CAS')"
      ]
    },
    {
      "cell_type": "markdown",
      "metadata": {
        "id": "bi6576kJODoS"
      },
      "source": [
        "Function to check the charge of a molecule and return SMILES"
      ]
    },
    {
      "cell_type": "code",
      "execution_count": null,
      "metadata": {},
      "outputs": [],
      "source": [
        "from rdkit import Chem"
      ]
    },
    {
      "cell_type": "code",
      "execution_count": null,
      "metadata": {
        "id": "eP7tUqhAN_jf"
      },
      "outputs": [],
      "source": [
        "def check_formal_charge_and_smiles(smiles):\n",
        "    smiles_str = str(smiles)\n",
        "    molecule = Chem.MolFromSmiles(smiles_str)\n",
        "    if molecule is None:\n",
        "        return None, None\n",
        "    total_charge = 0\n",
        "    for atom in molecule.GetAtoms():\n",
        "        atom_charge = atom.GetFormalCharge()\n",
        "        total_charge += atom_charge\n",
        "    return total_charge, smiles_str"
      ]
    },
    {
      "cell_type": "code",
      "execution_count": null,
      "metadata": {},
      "outputs": [],
      "source": [
        "smiles = data['SMILES']"
      ]
    },
    {
      "cell_type": "code",
      "execution_count": null,
      "metadata": {
        "id": "bTk10fiIOM1M"
      },
      "outputs": [],
      "source": [
        "# Create a new column of charges\n",
        "data3['Ładunek'], data3['SMILES'] = zip(*smiles.apply(check_formal_charge_and_smiles))"
      ]
    },
    {
      "cell_type": "code",
      "execution_count": null,
      "metadata": {
        "id": "YdwVL78VOOfu"
      },
      "outputs": [],
      "source": [
        "# Saving results\n",
        "data3.to_excel('plik.xlsx', index=False)"
      ]
    },
    {
      "cell_type": "markdown",
      "metadata": {
        "id": "gkOLZQZMOsfg"
      },
      "source": [
        "##Rename files (if they were deleted during structure generation)"
      ]
    },
    {
      "cell_type": "markdown",
      "metadata": {
        "id": "CELsDuufO7MY"
      },
      "source": [
        "We need a matrix with columns \"Old name\", \"New name\" and \"Charge\", which is generated from the previous code"
      ]
    },
    {
      "cell_type": "code",
      "execution_count": null,
      "metadata": {
        "id": "fa8zEKsqO0eV"
      },
      "outputs": [],
      "source": [
        "import os\n",
        "import pandas as pd\n",
        "import fileinput\n",
        "\n",
        "def rename_and_modify_mop_files(df, directory_path):\n",
        "    for index, row in df.iterrows():\n",
        "        old_filename = str(row[\"Old Filename\"])\n",
        "        new_filename = str(row[\"New Filename\"])\n",
        "        charge = str(row[\"Charge\"])\n",
        "\n",
        "        # Add the \".mop\" extension if not present in the new file name\n",
        "        if not new_filename.endswith(\".mop\"):\n",
        "            new_filename += \".mop\"\n",
        "\n",
        "        old_file_path = os.path.join(directory_path, old_filename + \".mop\")\n",
        "        new_file_path = os.path.join(directory_path, new_filename)\n",
        "\n",
        "        try:\n",
        "            # Rename the file\n",
        "            os.rename(old_file_path, new_file_path)\n",
        "\n",
        "            # Modify the first line in the new file\n",
        "            with fileinput.FileInput(new_file_path, inplace=True, backup='.bak') as file:\n",
        "                for line in file:\n",
        "                    # Replace the line starting with \"PUT KEYWORDS HERE\" with the desired keywords\n",
        "                    if line.startswith(\"PUT KEYWORDS HERE\"):\n",
        "                        line = f\"PM7 PRECISE PDBOUT CHARGE={charge} CYCLES=99999999\\n\"\n",
        "                    print(line, end='')\n",
        "\n",
        "            print(f\"Renamed and modified file: {old_filename}.mop -> {new_filename}\")\n",
        "\n",
        "        except FileNotFoundError:\n",
        "            print(f\"File {old_filename}.mop does not exist. Skipping.\")\n",
        "\n",
        "# Set the correct directory path\n",
        "directory_path = '/Users/michalina/Desktop/struktury_12k/nieruszone mopy-kopia'\n",
        "\n",
        "# Read the Excel file with old and new file names\n",
        "df = pd.read_excel(\"nazwy_plikow1.xlsx\")\n",
        "\n",
        "# Rename the files in the directory and modify the keywords based on data in the Excel sheet\n",
        "rename_and_modify_mop_files(df, directory_path)"
      ]
    }
  ],
  "metadata": {
    "colab": {
      "provenance": []
    },
    "kernelspec": {
      "display_name": "Python 3",
      "name": "python3"
    },
    "language_info": {
      "name": "python"
    }
  },
  "nbformat": 4,
  "nbformat_minor": 0
}
